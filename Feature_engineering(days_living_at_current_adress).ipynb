{
  "nbformat": 4,
  "nbformat_minor": 0,
  "metadata": {
    "colab": {
      "provenance": [],
      "authorship_tag": "ABX9TyNqOXGk9qMa+MWvbdwpklIg",
      "include_colab_link": true
    },
    "kernelspec": {
      "name": "python3",
      "display_name": "Python 3"
    },
    "language_info": {
      "name": "python"
    }
  },
  "cells": [
    {
      "cell_type": "markdown",
      "metadata": {
        "id": "view-in-github",
        "colab_type": "text"
      },
      "source": [
        "<a href=\"https://colab.research.google.com/github/Robert-Dstech/Data-science-/blob/main/Feature_engineering(days_living_at_current_adress).ipynb\" target=\"_parent\"><img src=\"https://colab.research.google.com/assets/colab-badge.svg\" alt=\"Open In Colab\"/></a>"
      ]
    },
    {
      "cell_type": "code",
      "source": [
        "import pandas as pd"
      ],
      "metadata": {
        "id": "al1HbkpZWp3-"
      },
      "execution_count": 23,
      "outputs": []
    },
    {
      "cell_type": "code",
      "source": [
        "import numpy as np"
      ],
      "metadata": {
        "id": "uFh9ipwMXZd6"
      },
      "execution_count": 24,
      "outputs": []
    },
    {
      "cell_type": "code",
      "source": [
        "from google.colab import drive"
      ],
      "metadata": {
        "id": "ugVkS80TXdJK"
      },
      "execution_count": 25,
      "outputs": []
    },
    {
      "cell_type": "code",
      "source": [
        "drive.mount('/content/drive')"
      ],
      "metadata": {
        "colab": {
          "base_uri": "https://localhost:8080/"
        },
        "id": "tVC7Pfj8Xjac",
        "outputId": "dfdd4dc9-cbec-43ea-d537-b67dfb9419b7"
      },
      "execution_count": 26,
      "outputs": [
        {
          "output_type": "stream",
          "name": "stdout",
          "text": [
            "Drive already mounted at /content/drive; to attempt to forcibly remount, call drive.mount(\"/content/drive\", force_remount=True).\n"
          ]
        }
      ]
    },
    {
      "cell_type": "code",
      "source": [
        "path='/content/drive/MyDrive/AutoInsClaims.csv'"
      ],
      "metadata": {
        "id": "7VlX-GagX9QS"
      },
      "execution_count": 27,
      "outputs": []
    },
    {
      "cell_type": "code",
      "source": [
        "df=pd.read_csv(path)"
      ],
      "metadata": {
        "id": "fQMPC2H7ap7X"
      },
      "execution_count": 28,
      "outputs": []
    },
    {
      "cell_type": "code",
      "source": [
        "import plotly.express as px"
      ],
      "metadata": {
        "id": "RU4CtvvIac_9"
      },
      "execution_count": 29,
      "outputs": []
    },
    {
      "cell_type": "code",
      "source": [
        "df.columns"
      ],
      "metadata": {
        "colab": {
          "base_uri": "https://localhost:8080/"
        },
        "id": "NE-KHyDfbQZQ",
        "outputId": "6ab8d478-d483-468e-b78f-9e2a05e97876"
      },
      "execution_count": 30,
      "outputs": [
        {
          "output_type": "execute_result",
          "data": {
            "text/plain": [
              "Index(['HOUSEHOLD_ID', 'DRIVER_ID', 'POLICY_ID', 'CLAIM_ID', 'INCIDENT_CAUSE',\n",
              "       'DESCRIPTION', 'CLAIM_STATUS', 'ODOMETER_AT_LOSS', 'LOSS_EVENT_TIME',\n",
              "       'CLAIM_INIT_TIME', 'POLICE_REPORT', 'CLAIMS_AT_LOSS_DATE',\n",
              "       'LOSS_LOCATION_LAT', 'LOSS_LOCATION_LONG', 'CLAIM_AMOUNT',\n",
              "       'FLAG_FOR_FRAUD_INV', 'PRIMARY_DRIVER_ID', 'START_DATE', 'EXPIRY_DATE',\n",
              "       'MODEL_YEAR', 'MAKE', 'MODEL', 'PLATE', 'COLOR', 'INITIAL_ODOMETER',\n",
              "       'LOW_MILEAGE_USE', 'FIRST_NAME', 'LAST_NAME', 'GENDER', 'BIRTHDATE',\n",
              "       'SSN', 'DRIVERS_LICENSE_ID', 'DRIVERS_LICENSE_EXPIRY',\n",
              "       'DRIVERS_LICENSE_STATE', 'DATE_AT_CURRENT_ADDRESS', 'CONTACT_NUMBER',\n",
              "       'EMAIL', 'COMMUTE_DISCOUNT'],\n",
              "      dtype='object')"
            ]
          },
          "metadata": {},
          "execution_count": 30
        }
      ]
    },
    {
      "cell_type": "code",
      "source": [
        "days_at_current_address= pd.to_datetime(df[\"DATE_AT_CURRENT_ADDRESS\"])"
      ],
      "metadata": {
        "id": "Cl5wi2bJqN5b"
      },
      "execution_count": 50,
      "outputs": []
    },
    {
      "cell_type": "code",
      "source": [
        "loss_date=pd.to_datetime(df[\"LOSS_EVENT_TIME\"])"
      ],
      "metadata": {
        "id": "zSg2eZ7RsOys"
      },
      "execution_count": 51,
      "outputs": []
    },
    {
      "cell_type": "code",
      "source": [
        "DAYS_AT_ADDRESS=loss_date-days_at_current_address"
      ],
      "metadata": {
        "id": "DlQN1c-SszLz"
      },
      "execution_count": 59,
      "outputs": []
    },
    {
      "cell_type": "code",
      "source": [
        "df['DAYS_AT_ADDRESS']=DAYS_AT_ADDRESS  ### incorporating days at address into the dataframe"
      ],
      "metadata": {
        "id": "jxr9HNvty48w"
      },
      "execution_count": 62,
      "outputs": []
    },
    {
      "cell_type": "code",
      "source": [
        "abs(df['DAYS_AT_ADDRESS']) ### REMOVING NEGATIVES FROM THE DATAFRAME"
      ],
      "metadata": {
        "colab": {
          "base_uri": "https://localhost:8080/"
        },
        "id": "162Oa8Wb1EcU",
        "outputId": "2e576b3a-8272-40ab-a657-4e087a88c0c3"
      },
      "execution_count": 67,
      "outputs": [
        {
          "output_type": "execute_result",
          "data": {
            "text/plain": [
              "0     6584 days\n",
              "1     2635 days\n",
              "2     3883 days\n",
              "3     6119 days\n",
              "4     1798 days\n",
              "         ...   \n",
              "970    527 days\n",
              "971    826 days\n",
              "972    951 days\n",
              "973   2539 days\n",
              "974   4680 days\n",
              "Name: DAYS_AT_ADDRESS, Length: 975, dtype: timedelta64[ns]"
            ]
          },
          "metadata": {},
          "execution_count": 67
        }
      ]
    },
    {
      "cell_type": "code",
      "source": [
        "df[\"SUSPICIOUS_LIVING\"] = (df[\"DAYS_AT_ADDRESS\"].dt.days >= 15).astype(int) ### dt.days helps comparing days to intergrs like 15\n",
        "\n"
      ],
      "metadata": {
        "id": "JO895xODzQLN"
      },
      "execution_count": 68,
      "outputs": []
    },
    {
      "cell_type": "code",
      "source": [
        "df.SUSPICIOUS_LIVING ### FINALLY WE HAVE SUSPICIOUS LIVING COLUMN"
      ],
      "metadata": {
        "colab": {
          "base_uri": "https://localhost:8080/"
        },
        "id": "A776m4hxxycr",
        "outputId": "6e6e340c-8af1-4cff-e314-7cac9ee97d6f"
      },
      "execution_count": 69,
      "outputs": [
        {
          "output_type": "execute_result",
          "data": {
            "text/plain": [
              "0      1\n",
              "1      1\n",
              "2      1\n",
              "3      1\n",
              "4      1\n",
              "      ..\n",
              "970    1\n",
              "971    1\n",
              "972    1\n",
              "973    1\n",
              "974    1\n",
              "Name: SUSPICIOUS_LIVING, Length: 975, dtype: int64"
            ]
          },
          "metadata": {},
          "execution_count": 69
        }
      ]
    }
  ]
}