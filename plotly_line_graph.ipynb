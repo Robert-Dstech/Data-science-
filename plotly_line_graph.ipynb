{
  "nbformat": 4,
  "nbformat_minor": 0,
  "metadata": {
    "colab": {
      "provenance": [],
      "authorship_tag": "ABX9TyO5mi0vBDeBIWThSXX2kYJ4",
      "include_colab_link": true
    },
    "kernelspec": {
      "name": "python3",
      "display_name": "Python 3"
    },
    "language_info": {
      "name": "python"
    }
  },
  "cells": [
    {
      "cell_type": "markdown",
      "metadata": {
        "id": "view-in-github",
        "colab_type": "text"
      },
      "source": [
        "<a href=\"https://colab.research.google.com/github/Robert-Dstech/Data-science-/blob/main/plotly_line_graph.ipynb\" target=\"_parent\"><img src=\"https://colab.research.google.com/assets/colab-badge.svg\" alt=\"Open In Colab\"/></a>"
      ]
    },
    {
      "cell_type": "code",
      "execution_count": null,
      "metadata": {
        "id": "hr8Ib3ZMpvj9"
      },
      "outputs": [],
      "source": [
        "import matplotlib.pyplot as plt\n",
        "import numpy as np\n",
        "import pandas as pd"
      ]
    },
    {
      "cell_type": "code",
      "source": [
        "from google.colab import drive\n"
      ],
      "metadata": {
        "id": "Nykq_NzeqZSi"
      },
      "execution_count": null,
      "outputs": []
    },
    {
      "cell_type": "code",
      "source": [
        "drive.mount('/content/drive')"
      ],
      "metadata": {
        "colab": {
          "base_uri": "https://localhost:8080/"
        },
        "id": "XWnAL8Yiqv0H",
        "outputId": "cb7b95d4-f64e-425a-caaf-2f1cbc49f9cf"
      },
      "execution_count": null,
      "outputs": [
        {
          "output_type": "stream",
          "name": "stdout",
          "text": [
            "Mounted at /content/drive\n"
          ]
        }
      ]
    },
    {
      "cell_type": "code",
      "source": [
        "path=\"/content/drive/MyDrive/gas_prices.csv\""
      ],
      "metadata": {
        "id": "9ifaOBkRrFIT"
      },
      "execution_count": null,
      "outputs": []
    },
    {
      "cell_type": "code",
      "source": [
        "df=pd.read_csv('/content/drive/MyDrive/gas_prices.csv')"
      ],
      "metadata": {
        "id": "0bNP69g-rOi_"
      },
      "execution_count": null,
      "outputs": []
    },
    {
      "cell_type": "code",
      "source": [
        "df.columns"
      ],
      "metadata": {
        "colab": {
          "base_uri": "https://localhost:8080/"
        },
        "id": "Tg3UkHq6suzN",
        "outputId": "8e6db260-b3b9-446e-85a4-567b997b47dc"
      },
      "execution_count": null,
      "outputs": [
        {
          "output_type": "execute_result",
          "data": {
            "text/plain": [
              "Index(['Year', 'Australia', 'Canada', 'France', 'Germany', 'Italy', 'Japan',\n",
              "       'Mexico', 'South Korea', 'UK', 'USA'],\n",
              "      dtype='object')"
            ]
          },
          "metadata": {},
          "execution_count": 11
        }
      ]
    },
    {
      "cell_type": "code",
      "source": [
        "#visualization on gas prices data"
      ],
      "metadata": {
        "id": "Cbg7SLZQ0mOl"
      },
      "execution_count": null,
      "outputs": []
    },
    {
      "cell_type": "code",
      "source": [
        "from matplotlib import markers\n",
        "plt.plot(df.Year,df.USA,label='USA',color='red',linestyle='--',marker='.',markeredgecolor='black',markersize=10)\n",
        "plt.plot(df.Year,df.Canada,label='Canada',color='blue')\n",
        "plt.plot(df.Year,df['South Korea'],label='South_korea',color='green',marker='<',markersize=7)\n",
        "plt.title('Gas prices over time in(usd)')\n",
        "plt.xticks(df.Year[::5])\n",
        "plt.figure(figsize=(6,4))\n",
        "plt.xlabel='years'\n",
        "plt.ylabel='Prices'\n",
        "\n",
        "\n",
        "plt.show()"
      ],
      "metadata": {
        "colab": {
          "base_uri": "https://localhost:8080/",
          "height": 298
        },
        "id": "BIwmGeEKrkW5",
        "outputId": "ca525dc6-32d8-4665-a7e5-bf32cafd0d63"
      },
      "execution_count": null,
      "outputs": [
        {
          "output_type": "display_data",
          "data": {
            "text/plain": [
              "<Figure size 432x288 with 1 Axes>"
            ],
            "image/png": "[encoded data removed]"
          },
          "metadata": {
            "needs_background": "light"
          }
        },
        {
          "output_type": "display_data",
          "data": {
            "text/plain": [
              "<Figure size 432x288 with 0 Axes>"
            ]
          },
          "metadata": {}
        }
      ]
    }
  ]
}